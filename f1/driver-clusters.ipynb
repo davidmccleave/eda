{
 "cells": [
  {
   "cell_type": "code",
   "execution_count": 12,
   "metadata": {},
   "outputs": [],
   "source": [
    "import numpy as np\n",
    "import pandas as pd\n",
    "import seaborn as sns\n",
    "import matplotlib.pyplot as plt\n",
    "import sklearn "
   ]
  },
  {
   "cell_type": "code",
   "execution_count": 22,
   "metadata": {},
   "outputs": [
    {
     "data": {
      "text/plain": [
       "array(['williams', 'ferrari', 'mercedes', 'racing_point', 'mclaren',\n",
       "       'alpine', 'haas', 'red_bull', 'alphatauri', 'alfa', 'aston_martin'],\n",
       "      dtype=object)"
      ]
     },
     "execution_count": 22,
     "metadata": {},
     "output_type": "execute_result"
    }
   ],
   "source": [
    "# Load datasets\n",
    "drivers_df = pd.read_csv('data/drivers.csv')\n",
    "constructors_df = pd.read_csv('data/constructors.csv', usecols=['constructorId', 'constructorRef'])\n",
    "races_df = pd.read_csv('data/races.csv')\n",
    "results_df = pd.read_csv('data/results.csv')\n",
    "status_df = pd.read_csv('data/status.csv')\n",
    "\n",
    "# Merge in other datasets\n",
    "results_df = results_df.merge(races_df[['raceId', 'date']], on='raceId')\n",
    "results_df = results_df.merge(status_df, on='statusId')\n",
    "results_df = results_df.merge(constructors_df, on='constructorId')\n",
    "\n",
    "# Sort by date\n",
    "results_df['date'] = pd.to_datetime(results_df['date'])\n",
    "results_df = results_df.sort_values(by='date')\n",
    "\n",
    "drop_cols = ['resultId', 'number', 'grid',\n",
    "       'position', 'positionText', 'positionOrder', 'points', 'laps', 'time',\n",
    "       'milliseconds', 'fastestLap', 'rank', 'fastestLapTime',\n",
    "       'fastestLapSpeed', 'constructorId']\n",
    "\n",
    "df = results_df[results_df.date.dt.year >= 2020].drop(columns=drop_cols)\n",
    "df = df.replace({'renault':'alpine'})\n",
    "df.constructorRef.unique()"
   ]
  },
  {
   "cell_type": "code",
   "execution_count": 23,
   "metadata": {},
   "outputs": [
    {
     "data": {
      "text/plain": [
       "(50.0, 100.0)"
      ]
     },
     "execution_count": 23,
     "metadata": {},
     "output_type": "execute_result"
    },
    {
     "data": {
      "image/png": "[encoded data removed]",
      "text/plain": [
       "<Figure size 1400x400 with 1 Axes>"
      ]
     },
     "metadata": {},
     "output_type": "display_data"
    }
   ],
   "source": [
    "# counts = counts.sort_values(by='statusId', ascending=False)\n",
    "# counts\n",
    "# plt.figure(figsize=(16, 5), tight_layout=True)\n",
    "# sns.barplot(data=counts.head(18), x='constructorRef', y='statusId')\n",
    "\n",
    "counts = df[(df.status == 'Finished') | (df.status == '+1 Lap')].groupby('constructorRef').count().drop(columns=['raceId', 'driverId', 'date', 'status']).reset_index().rename(columns={'statusId':'finished'})\n",
    "totals = df.groupby('constructorRef').count().drop(columns=['raceId', 'driverId', 'date', 'status']).reset_index().rename(columns={'statusId':'total'})\n",
    "totals = totals.merge(counts, on='constructorRef')\n",
    "totals['finPercent'] = totals['finished'] / totals['total'] * 100\n",
    "totals.sort_values(by='finPercent', inplace=True, ascending=False)\n",
    "plt.figure(figsize=(14, 4), tight_layout=True)\n",
    "sns.barplot(data=totals, x='constructorRef', y='finPercent')\n",
    "plt.yticks([50, 60, 70, 80, 90, 100])\n",
    "plt.ylim(50, 100)"
   ]
  },
  {
   "cell_type": "code",
   "execution_count": 24,
   "metadata": {},
   "outputs": [
    {
     "data": {
      "text/html": [
       "<div>\n",
       "<style scoped>\n",
       "    .dataframe tbody tr th:only-of-type {\n",
       "        vertical-align: middle;\n",
       "    }\n",
       "\n",
       "    .dataframe tbody tr th {\n",
       "        vertical-align: top;\n",
       "    }\n",
       "\n",
       "    .dataframe thead th {\n",
       "        text-align: right;\n",
       "    }\n",
       "</style>\n",
       "<table border=\"1\" class=\"dataframe\">\n",
       "  <thead>\n",
       "    <tr style=\"text-align: right;\">\n",
       "      <th></th>\n",
       "      <th>constructorRef</th>\n",
       "      <th>total</th>\n",
       "      <th>finished</th>\n",
       "      <th>finPercent</th>\n",
       "    </tr>\n",
       "  </thead>\n",
       "  <tbody>\n",
       "    <tr>\n",
       "      <th>6</th>\n",
       "      <td>mclaren</td>\n",
       "      <td>122</td>\n",
       "      <td>111</td>\n",
       "      <td>90.983607</td>\n",
       "    </tr>\n",
       "    <tr>\n",
       "      <th>7</th>\n",
       "      <td>mercedes</td>\n",
       "      <td>122</td>\n",
       "      <td>111</td>\n",
       "      <td>90.983607</td>\n",
       "    </tr>\n",
       "    <tr>\n",
       "      <th>4</th>\n",
       "      <td>ferrari</td>\n",
       "      <td>122</td>\n",
       "      <td>105</td>\n",
       "      <td>86.065574</td>\n",
       "    </tr>\n",
       "    <tr>\n",
       "      <th>2</th>\n",
       "      <td>alpine</td>\n",
       "      <td>122</td>\n",
       "      <td>104</td>\n",
       "      <td>85.245902</td>\n",
       "    </tr>\n",
       "    <tr>\n",
       "      <th>9</th>\n",
       "      <td>red_bull</td>\n",
       "      <td>122</td>\n",
       "      <td>104</td>\n",
       "      <td>85.245902</td>\n",
       "    </tr>\n",
       "    <tr>\n",
       "      <th>0</th>\n",
       "      <td>alfa</td>\n",
       "      <td>122</td>\n",
       "      <td>101</td>\n",
       "      <td>82.786885</td>\n",
       "    </tr>\n",
       "    <tr>\n",
       "      <th>3</th>\n",
       "      <td>aston_martin</td>\n",
       "      <td>88</td>\n",
       "      <td>71</td>\n",
       "      <td>80.681818</td>\n",
       "    </tr>\n",
       "    <tr>\n",
       "      <th>1</th>\n",
       "      <td>alphatauri</td>\n",
       "      <td>122</td>\n",
       "      <td>98</td>\n",
       "      <td>80.327869</td>\n",
       "    </tr>\n",
       "    <tr>\n",
       "      <th>8</th>\n",
       "      <td>racing_point</td>\n",
       "      <td>34</td>\n",
       "      <td>26</td>\n",
       "      <td>76.470588</td>\n",
       "    </tr>\n",
       "    <tr>\n",
       "      <th>10</th>\n",
       "      <td>williams</td>\n",
       "      <td>122</td>\n",
       "      <td>80</td>\n",
       "      <td>65.573770</td>\n",
       "    </tr>\n",
       "    <tr>\n",
       "      <th>5</th>\n",
       "      <td>haas</td>\n",
       "      <td>122</td>\n",
       "      <td>70</td>\n",
       "      <td>57.377049</td>\n",
       "    </tr>\n",
       "  </tbody>\n",
       "</table>\n",
       "</div>"
      ],
      "text/plain": [
       "   constructorRef  total  finished  finPercent\n",
       "6         mclaren    122       111   90.983607\n",
       "7        mercedes    122       111   90.983607\n",
       "4         ferrari    122       105   86.065574\n",
       "2          alpine    122       104   85.245902\n",
       "9        red_bull    122       104   85.245902\n",
       "0            alfa    122       101   82.786885\n",
       "3    aston_martin     88        71   80.681818\n",
       "1      alphatauri    122        98   80.327869\n",
       "8    racing_point     34        26   76.470588\n",
       "10       williams    122        80   65.573770\n",
       "5            haas    122        70   57.377049"
      ]
     },
     "execution_count": 24,
     "metadata": {},
     "output_type": "execute_result"
    }
   ],
   "source": [
    "totals"
   ]
  },
  {
   "cell_type": "code",
   "execution_count": 40,
   "metadata": {},
   "outputs": [],
   "source": [
    "# status_counts = df[df.constructorId == 1].groupby('status').count().drop(columns=['driverId', 'constructorId', 'date', 'raceId']).reset_index()\n",
    "# status_counts.sort_values(by='statusId', inplace=True, ascending=False)\n",
    "# plt.figure(figsize=(12, 4))\n",
    "# sns.barplot(data=status_counts.tail(-2).head(5), x='status', y='statusId')"
   ]
  }
 ],
 "metadata": {
  "kernelspec": {
   "display_name": ".venv",
   "language": "python",
   "name": "python3"
  },
  "language_info": {
   "codemirror_mode": {
    "name": "ipython",
    "version": 3
   },
   "file_extension": ".py",
   "mimetype": "text/x-python",
   "name": "python",
   "nbconvert_exporter": "python",
   "pygments_lexer": "ipython3",
   "version": "3.10.8"
  },
  "orig_nbformat": 4,
  "vscode": {
   "interpreter": {
    "hash": "528c3cc9aa657f54881c4dfbdf20efa41f013ed0efaa16aec2192387b1f338d7"
   }
  }
 },
 "nbformat": 4,
 "nbformat_minor": 2
}
