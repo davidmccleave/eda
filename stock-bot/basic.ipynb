{
 "cells": [
  {
   "attachments": {},
   "cell_type": "markdown",
   "metadata": {},
   "source": [
    "# Stock-Bot\n",
    "\n",
    "Decision to buy/sell is made when a certain SMA is crossed.\n",
    "\n",
    "- get gradiant of all SMAs at that point\n",
    "- guess price when the stock cross that SMA again\n",
    "\n",
    "### How?\n",
    "\n",
    "- when stock cross -> ask experts"
   ]
  },
  {
   "cell_type": "code",
   "execution_count": 62,
   "metadata": {},
   "outputs": [],
   "source": [
    "import pandas as pd\n",
    "import numpy as np\n",
    "import seaborn as sns\n",
    "import matplotlib.pyplot as plt\n",
    "\n",
    "from sklearn.model_selection import train_test_split\n",
    "from sklearn.ensemble import AdaBoostRegressor, AdaBoostClassifier\n",
    "from sklearn.metrics import *\n",
    "\n",
    "pd.options.mode.chained_assignment = None"
   ]
  },
  {
   "attachments": {},
   "cell_type": "markdown",
   "metadata": {},
   "source": [
    "## Pre-processing"
   ]
  },
  {
   "cell_type": "code",
   "execution_count": 82,
   "metadata": {},
   "outputs": [],
   "source": [
    "companies_df = pd.read_csv('data/sp500_companies.csv').sort_values(by='Weight', ascending=False)\n",
    "index_df = pd.read_csv('data/sp500_index.csv')\n",
    "stocks_df = pd.read_csv('data/sp500_stocks.csv')"
   ]
  },
  {
   "attachments": {},
   "cell_type": "markdown",
   "metadata": {},
   "source": [
    "### Calculate values for a single company"
   ]
  },
  {
   "cell_type": "code",
   "execution_count": 84,
   "metadata": {},
   "outputs": [],
   "source": [
    "drop_cols = ['Symbol', 'Adj Close', 'High', 'Low', 'Open', 'Volume']\n",
    "\n",
    "def create_company_df(symbol: str):\n",
    "    ma_sizes = [5, 10, 30, 50]\n",
    "    company_df = stocks_df[stocks_df.Symbol == symbol]\n",
    "    company_df = company_df.sort_values(by='Date').drop(columns=drop_cols)\n",
    "    # company_df = company_df.tail(365) # NOTE: gets last year of data\n",
    "    for size in ma_sizes:\n",
    "        company_df[f'SMA{size}'] = company_df['Close'].rolling(size).mean()\n",
    "    company_df.dropna(inplace=True)\n",
    "\n",
    "    # Calculate SMA gradients\n",
    "    for size in ma_sizes:\n",
    "        company_df[f'SMA{size}_diff'] = company_df[f'SMA{size}'] - company_df[f'SMA{size}'].shift(1)\n",
    "\n",
    "    # Calculate Close value in 14 days time\n",
    "    company_df['future_close'] = company_df['Close'].shift(-14) - company_df['Close']\n",
    "    company_df.dropna(inplace=True)\n",
    "    return company_df\n",
    "\n",
    "    # Plot\n",
    "    # company_df[['Close', 'SMA5', 'SMA10', 'SMA30', 'SMA50']].plot(label='AAPL', figsize=(12, 4))"
   ]
  },
  {
   "attachments": {},
   "cell_type": "markdown",
   "metadata": {},
   "source": [
    "### Data prep"
   ]
  },
  {
   "cell_type": "code",
   "execution_count": 85,
   "metadata": {},
   "outputs": [],
   "source": [
    "df = create_company_df('AAPL')\n",
    "symbols = list(companies_df.Symbol.unique())\n",
    "for symbol in symbols[1:400]:\n",
    "    df = pd.concat((df, create_company_df(symbol)), axis=0, ignore_index=True)\n",
    "\n",
    "df = df[['Date', 'SMA5_diff', 'SMA10_diff', 'SMA30_diff', 'SMA50_diff', 'future_close']].sort_values(by='Date').drop(columns=['Date'])\n",
    "\n",
    "df['outcome'] = df['future_close'] > 0\n",
    "df.shape"
   ]
  },
  {
   "attachments": {},
   "cell_type": "markdown",
   "metadata": {},
   "source": [
    "### Train models"
   ]
  },
  {
   "attachments": {},
   "cell_type": "markdown",
   "metadata": {},
   "source": [
    "#### Regression"
   ]
  },
  {
   "cell_type": "code",
   "execution_count": null,
   "metadata": {},
   "outputs": [],
   "source": [
    "X_train, X_test, y_train, y_test = train_test_split(df.drop(columns=['future_close', 'outcome']), df['future_close'], test_size = 0.2)"
   ]
  },
  {
   "cell_type": "code",
   "execution_count": null,
   "metadata": {},
   "outputs": [],
   "source": [
    "def print_statistics(regression_model, name):\n",
    "    print(f'---------- {name} ----------')\n",
    "    print(f'Max Error: {max_error(y_test, regression_model.predict(X_test))}')\n",
    "    print(f'MSE:       {mean_squared_error(y_test, regression_model.predict(X_test))}')\n",
    "    print(f'MAE:       {mean_absolute_error(y_test, regression_model.predict(X_test))}')\n",
    "    print(f'R2 Score:  {regression_model.score(X_test, y_test)}')"
   ]
  },
  {
   "cell_type": "code",
   "execution_count": null,
   "metadata": {},
   "outputs": [
    {
     "name": "stdout",
     "output_type": "stream",
     "text": [
      "---------- AdaBoost ----------\n",
      "Max Error: 649.1071535548535\n",
      "MSE:       186.5157276919058\n",
      "MAE:       5.398024358901793\n",
      "R2 Score:  0.016324679749587512\n"
     ]
    }
   ],
   "source": [
    "adaboost = AdaBoostRegressor(n_estimators=50)\n",
    "adaboost.fit(X_train, y_train)\n",
    "print_statistics(adaboost, 'AdaBoost')"
   ]
  },
  {
   "attachments": {},
   "cell_type": "markdown",
   "metadata": {},
   "source": [
    "#### Classification"
   ]
  },
  {
   "cell_type": "code",
   "execution_count": null,
   "metadata": {},
   "outputs": [],
   "source": [
    "X_train, X_test, y_train, y_test = train_test_split(df.drop(columns=['future_close', 'outcome']), df['outcome'], test_size = 0.2)"
   ]
  },
  {
   "cell_type": "code",
   "execution_count": null,
   "metadata": {},
   "outputs": [
    {
     "data": {
      "text/plain": [
       "0.5747523722656938"
      ]
     },
     "execution_count": 77,
     "metadata": {},
     "output_type": "execute_result"
    }
   ],
   "source": [
    "ac = AdaBoostClassifier(n_estimators=50)\n",
    "ac.fit(X_train, y_train)\n",
    "ac.score(X_test, y_test)"
   ]
  }
 ],
 "metadata": {
  "kernelspec": {
   "display_name": ".venv",
   "language": "python",
   "name": "python3"
  },
  "language_info": {
   "codemirror_mode": {
    "name": "ipython",
    "version": 3
   },
   "file_extension": ".py",
   "mimetype": "text/x-python",
   "name": "python",
   "nbconvert_exporter": "python",
   "pygments_lexer": "ipython3",
   "version": "3.10.8"
  },
  "orig_nbformat": 4,
  "vscode": {
   "interpreter": {
    "hash": "528c3cc9aa657f54881c4dfbdf20efa41f013ed0efaa16aec2192387b1f338d7"
   }
  }
 },
 "nbformat": 4,
 "nbformat_minor": 2
}
