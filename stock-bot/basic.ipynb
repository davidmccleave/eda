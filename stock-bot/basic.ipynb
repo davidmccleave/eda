{
 "cells": [
  {
   "attachments": {},
   "cell_type": "markdown",
   "metadata": {},
   "source": [
    "# Stock-Bot\n",
    "\n",
    "Decision to buy/sell is made when a certain SMA is crossed.\n",
    "\n",
    "- get gradiant of all SMAs at that point\n",
    "- guess price when the stock cross that SMA again\n",
    "\n",
    "### How?\n",
    "\n",
    "- when stock cross -> ask experts"
   ]
  },
  {
   "cell_type": "code",
   "execution_count": 70,
   "metadata": {},
   "outputs": [],
   "source": [
    "import math\n",
    "import pandas as pd\n",
    "import numpy as np\n",
    "import seaborn as sns\n",
    "import matplotlib.pyplot as plt\n",
    "\n",
    "from sklearn.model_selection import train_test_split\n",
    "from sklearn.ensemble import AdaBoostRegressor, AdaBoostClassifier\n",
    "from sklearn.metrics import *\n",
    "\n",
    "pd.options.mode.chained_assignment = None"
   ]
  },
  {
   "attachments": {},
   "cell_type": "markdown",
   "metadata": {},
   "source": [
    "## Pre-processing"
   ]
  },
  {
   "cell_type": "code",
   "execution_count": 90,
   "metadata": {},
   "outputs": [],
   "source": [
    "companies_df = pd.read_csv('data/sp500_companies.csv').sort_values(by='Weight', ascending=False)\n",
    "index_df = pd.read_csv('data/sp500_index.csv')\n",
    "stocks_df = pd.read_csv('data/sp500_stocks.csv')"
   ]
  },
  {
   "attachments": {},
   "cell_type": "markdown",
   "metadata": {},
   "source": [
    "### Calculate values for a single company"
   ]
  },
  {
   "cell_type": "code",
   "execution_count": 91,
   "metadata": {},
   "outputs": [],
   "source": [
    "drop_cols = ['Symbol', 'Adj Close', 'High', 'Low', 'Open', 'Volume']\n",
    "ma_sizes = [5, 10, 30, 50]\n",
    "lookahead =  21 # NOTE: in days\n",
    "num_companies = 450\n",
    "\n",
    "def create_company_df(symbol: str):\n",
    "    company_df = stocks_df[stocks_df.Symbol == symbol]\n",
    "    company_df = company_df.sort_values(by='Date').drop(columns=drop_cols)\n",
    "    # company_df = company_df.tail(365) # NOTE: gets last year of data\n",
    "    for size in ma_sizes:\n",
    "        company_df[f'SMA{size}'] = company_df['Close'].rolling(size).mean()\n",
    "    company_df.dropna(inplace=True)\n",
    "\n",
    "\n",
    "    # Calculate SMA gradients\n",
    "    for size in ma_sizes:\n",
    "        company_df[f'SMA{size}_diff'] = company_df[f'SMA{size}'] - company_df[f'SMA{size}'].shift(1)\n",
    "        company_df[f'SMA{size}_angle'] = company_df.apply(lambda row: math.atan(row[f'SMA{size}_diff']), axis=1)\n",
    "\n",
    "    # NOTE: Calculate Close value in 14 days time\n",
    "    company_df['future_close'] = company_df['Close'].shift(-lookahead) - company_df['Close']\n",
    "    company_df.dropna(inplace=True)\n",
    "    return company_df\n",
    "\n",
    "    # Plot\n",
    "    # company_df[['Close', 'SMA5', 'SMA10', 'SMA30', 'SMA50']].plot(label='AAPL', figsize=(12, 4))"
   ]
  },
  {
   "attachments": {},
   "cell_type": "markdown",
   "metadata": {},
   "source": [
    "### Data prep"
   ]
  },
  {
   "cell_type": "code",
   "execution_count": 92,
   "metadata": {},
   "outputs": [
    {
     "data": {
      "text/plain": [
       "(1379289, 7)"
      ]
     },
     "execution_count": 92,
     "metadata": {},
     "output_type": "execute_result"
    }
   ],
   "source": [
    "df = create_company_df('AAPL')\n",
    "symbols = list(companies_df.Symbol.unique())\n",
    "for symbol in symbols[1:num_companies]:\n",
    "    df = pd.concat((df, create_company_df(symbol)), axis=0, ignore_index=True)\n",
    "\n",
    "df = df[['Date', 'SMA5_angle', 'SMA10_angle', 'SMA30_angle', 'SMA50_angle', 'future_close', 'Close']].sort_values(by='Date').drop(columns=['Date'])\n",
    "\n",
    "df['outcome'] = df['future_close'] > 0\n",
    "df.shape"
   ]
  },
  {
   "attachments": {},
   "cell_type": "markdown",
   "metadata": {},
   "source": [
    "### Train models"
   ]
  },
  {
   "attachments": {},
   "cell_type": "markdown",
   "metadata": {},
   "source": [
    "#### Regression"
   ]
  },
  {
   "cell_type": "code",
   "execution_count": 93,
   "metadata": {},
   "outputs": [],
   "source": [
    "X_train, X_test, y_train, y_test = train_test_split(df.drop(columns=['future_close', 'outcome']), df['future_close'], test_size = 0.2)"
   ]
  },
  {
   "cell_type": "code",
   "execution_count": 94,
   "metadata": {},
   "outputs": [],
   "source": [
    "def print_statistics(regression_model, name):\n",
    "    print(f'---------- {name} ----------')\n",
    "    print(f'Max Error: {max_error(y_test, regression_model.predict(X_test))}')\n",
    "    print(f'MSE:       {mean_squared_error(y_test, regression_model.predict(X_test))}')\n",
    "    print(f'MAE:       {mean_absolute_error(y_test, regression_model.predict(X_test))}')\n",
    "    print(f'R2 Score:  {regression_model.score(X_test, y_test)}')"
   ]
  },
  {
   "cell_type": "code",
   "execution_count": 95,
   "metadata": {},
   "outputs": [],
   "source": [
    "# adaboost = AdaBoostRegressor(n_estimators=50)\n",
    "# adaboost.fit(X_train, y_train)\n",
    "# print_statistics(adaboost, 'AdaBoost')"
   ]
  },
  {
   "attachments": {},
   "cell_type": "markdown",
   "metadata": {},
   "source": [
    "#### Classification"
   ]
  },
  {
   "cell_type": "code",
   "execution_count": 96,
   "metadata": {},
   "outputs": [
    {
     "name": "stdout",
     "output_type": "stream",
     "text": [
      "(10) average: 0.5838619869643077\n",
      "(25) average: 0.5831828936143475\n",
      "(50) average: 0.5838172779715167\n",
      "(100) average: 0.5837206098789957\n"
     ]
    }
   ],
   "source": [
    "run_results = list()\n",
    "for i in range(3):\n",
    "    X_train, X_test, y_train, y_test = train_test_split(df.drop(columns=['future_close', 'outcome']), df['outcome'], test_size = 0.2)\n",
    "    ac = AdaBoostClassifier(n_estimators=40)\n",
    "    ac.fit(X_train, y_train)\n",
    "    run_results.append(ac.score(X_test, y_test))\n",
    "\n",
    "print(f'average: {sum(run_results) / len(run_results)}')"
   ]
  },
  {
   "attachments": {},
   "cell_type": "markdown",
   "metadata": {},
   "source": [
    "## Optimization"
   ]
  },
  {
   "cell_type": "code",
   "execution_count": 50,
   "metadata": {},
   "outputs": [
    {
     "name": "stdout",
     "output_type": "stream",
     "text": [
      "Minimization: <function dafunc at 0x2a8dd5630>\n",
      "Bounds: [[0, 10], [0, 10], [0, 10], [0, 10], [0, 10], [0, 10], [0, 10], [0, 10], [0, 10], [0, 10]]\n",
      "Vector Constraints: [<function vc at 0x2a8dd5360>]\n",
      "\n",
      "<class 'cify.core.objective_function.ObjectiveFunction'>\n"
     ]
    }
   ],
   "source": [
    "import cify as ci\n",
    "from cify.si.pso.algorithm import InertiaWeightPSO\n",
    "\n",
    "def dafunc(vector):\n",
    "    lookahead = int(vector[0])\n",
    "    df['future_close'] = df['Close'].shift(-lookahead) - df['Close']\n",
    "    X_train, X_test, y_train, y_test = train_test_split(df.drop(columns=['future_close', 'outcome']), df['outcome'], test_size = 0.2)\n",
    "    ac = AdaBoostClassifier(n_estimators=50)\n",
    "    ac.fit(X_train, y_train)\n",
    "    return float(ac.score(X_test, y_test))\n",
    "\n",
    "def vc(vector):\n",
    "    for x in vector:\n",
    "        if x > 10 or x < 3:\n",
    "            return False\n",
    "    return True\n",
    "\n",
    "obj_func = ci.ObjectiveFunction(function=dafunc, bounds=[0, 10], vector_constraints=[vc])\n",
    "# obj_func = ci.get_objective_function('sphere')\n",
    "print(obj_func)\n",
    "print(type(obj_func))"
   ]
  },
  {
   "cell_type": "code",
   "execution_count": 51,
   "metadata": {},
   "outputs": [],
   "source": [
    "swarm = ci.get_swarm(obj_func=obj_func, n_particles=10)\n",
    "algo = InertiaWeightPSO(obj_func=obj_func, swarms=[swarm])\n",
    "# meta.execute(50)\n",
    "# meta.statistics.tail(3)"
   ]
  },
  {
   "cell_type": "code",
   "execution_count": 52,
   "metadata": {},
   "outputs": [
    {
     "name": "stderr",
     "output_type": "stream",
     "text": [
      "100%|██████████| 20/20 [41:32<00:00, 124.65s/it]\n"
     ]
    },
    {
     "data": {
      "text/html": [
       "<div>\n",
       "<style scoped>\n",
       "    .dataframe tbody tr th:only-of-type {\n",
       "        vertical-align: middle;\n",
       "    }\n",
       "\n",
       "    .dataframe tbody tr th {\n",
       "        vertical-align: top;\n",
       "    }\n",
       "\n",
       "    .dataframe thead th {\n",
       "        text-align: right;\n",
       "    }\n",
       "</style>\n",
       "<table border=\"1\" class=\"dataframe\">\n",
       "  <thead>\n",
       "    <tr style=\"text-align: right;\">\n",
       "      <th></th>\n",
       "      <th>best</th>\n",
       "      <th>worst</th>\n",
       "      <th>mean</th>\n",
       "      <th>stdev</th>\n",
       "      <th>global_optimum</th>\n",
       "      <th>n_evaluations</th>\n",
       "    </tr>\n",
       "    <tr>\n",
       "      <th>iteration</th>\n",
       "      <th></th>\n",
       "      <th></th>\n",
       "      <th></th>\n",
       "      <th></th>\n",
       "      <th></th>\n",
       "      <th></th>\n",
       "    </tr>\n",
       "  </thead>\n",
       "  <tbody>\n",
       "    <tr>\n",
       "      <th>18</th>\n",
       "      <td>0.597809</td>\n",
       "      <td>0.607825</td>\n",
       "      <td>0.601659</td>\n",
       "      <td>0.009755</td>\n",
       "      <td>0.606573</td>\n",
       "      <td>284</td>\n",
       "    </tr>\n",
       "    <tr>\n",
       "      <th>19</th>\n",
       "      <td>0.612520</td>\n",
       "      <td>0.625039</td>\n",
       "      <td>0.607324</td>\n",
       "      <td>0.008695</td>\n",
       "      <td>0.606260</td>\n",
       "      <td>284</td>\n",
       "    </tr>\n",
       "    <tr>\n",
       "      <th>20</th>\n",
       "      <td>0.596244</td>\n",
       "      <td>0.613772</td>\n",
       "      <td>0.606886</td>\n",
       "      <td>0.006072</td>\n",
       "      <td>0.599687</td>\n",
       "      <td>283</td>\n",
       "    </tr>\n",
       "  </tbody>\n",
       "</table>\n",
       "</div>"
      ],
      "text/plain": [
       "               best     worst      mean     stdev  global_optimum  \\\n",
       "iteration                                                           \n",
       "18         0.597809  0.607825  0.601659  0.009755        0.606573   \n",
       "19         0.612520  0.625039  0.607324  0.008695        0.606260   \n",
       "20         0.596244  0.613772  0.606886  0.006072        0.599687   \n",
       "\n",
       "          n_evaluations  \n",
       "iteration                \n",
       "18                  284  \n",
       "19                  284  \n",
       "20                  283  "
      ]
     },
     "execution_count": 52,
     "metadata": {},
     "output_type": "execute_result"
    }
   ],
   "source": [
    "algo.execute(20)\n",
    "algo.statistics.tail(3)"
   ]
  },
  {
   "cell_type": "code",
   "execution_count": 58,
   "metadata": {},
   "outputs": [
    {
     "data": {
      "text/plain": [
       "<AxesSubplot: xlabel='iteration', ylabel='mean'>"
      ]
     },
     "execution_count": 58,
     "metadata": {},
     "output_type": "execute_result"
    },
    {
     "data": {
      "image/png": "[encoded data removed]",
      "text/plain": [
       "<Figure size 640x480 with 1 Axes>"
      ]
     },
     "metadata": {},
     "output_type": "display_data"
    }
   ],
   "source": [
    "sns.lineplot(data=algo.statistics, x=algo.statistics.index, y='mean')"
   ]
  }
 ],
 "metadata": {
  "kernelspec": {
   "display_name": ".venv",
   "language": "python",
   "name": "python3"
  },
  "language_info": {
   "codemirror_mode": {
    "name": "ipython",
    "version": 3
   },
   "file_extension": ".py",
   "mimetype": "text/x-python",
   "name": "python",
   "nbconvert_exporter": "python",
   "pygments_lexer": "ipython3",
   "version": "3.10.8 (main, Oct 21 2022, 22:22:30) [Clang 14.0.0 (clang-1400.0.29.202)]"
  },
  "orig_nbformat": 4,
  "vscode": {
   "interpreter": {
    "hash": "528c3cc9aa657f54881c4dfbdf20efa41f013ed0efaa16aec2192387b1f338d7"
   }
  }
 },
 "nbformat": 4,
 "nbformat_minor": 2
}
